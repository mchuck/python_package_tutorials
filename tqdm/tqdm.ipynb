{
  "nbformat": 4,
  "nbformat_minor": 0,
  "metadata": {
    "colab": {
      "name": "python: tqdm.ipynb",
      "provenance": [],
      "collapsed_sections": []
    },
    "kernelspec": {
      "name": "python3",
      "display_name": "Python 3"
    },
    "widgets": {
      "application/vnd.jupyter.widget-state+json": {
        "64d58478ddbf4d1ea83eb2a4b35c645a": {
          "model_module": "@jupyter-widgets/controls",
          "model_name": "HBoxModel",
          "state": {
            "_view_name": "HBoxView",
            "_dom_classes": [],
            "_model_name": "HBoxModel",
            "_view_module": "@jupyter-widgets/controls",
            "_model_module_version": "1.5.0",
            "_view_count": null,
            "_view_module_version": "1.5.0",
            "box_style": "",
            "layout": "IPY_MODEL_4ae7e350cb3f43228410e4cc1e4a709d",
            "_model_module": "@jupyter-widgets/controls",
            "children": [
              "IPY_MODEL_b2242d4d7e7d47de94186653d796a777",
              "IPY_MODEL_5dbf96feb1e04a9f82d46549e4a9f00e"
            ]
          }
        },
        "4ae7e350cb3f43228410e4cc1e4a709d": {
          "model_module": "@jupyter-widgets/base",
          "model_name": "LayoutModel",
          "state": {
            "_view_name": "LayoutView",
            "grid_template_rows": null,
            "right": null,
            "justify_content": null,
            "_view_module": "@jupyter-widgets/base",
            "overflow": null,
            "_model_module_version": "1.2.0",
            "_view_count": null,
            "flex_flow": null,
            "width": null,
            "min_width": null,
            "border": null,
            "align_items": null,
            "bottom": null,
            "_model_module": "@jupyter-widgets/base",
            "top": null,
            "grid_column": null,
            "overflow_y": null,
            "overflow_x": null,
            "grid_auto_flow": null,
            "grid_area": null,
            "grid_template_columns": null,
            "flex": null,
            "_model_name": "LayoutModel",
            "justify_items": null,
            "grid_row": null,
            "max_height": null,
            "align_content": null,
            "visibility": null,
            "align_self": null,
            "height": null,
            "min_height": null,
            "padding": null,
            "grid_auto_rows": null,
            "grid_gap": null,
            "max_width": null,
            "order": null,
            "_view_module_version": "1.2.0",
            "grid_template_areas": null,
            "object_position": null,
            "object_fit": null,
            "grid_auto_columns": null,
            "margin": null,
            "display": null,
            "left": null
          }
        },
        "b2242d4d7e7d47de94186653d796a777": {
          "model_module": "@jupyter-widgets/controls",
          "model_name": "FloatProgressModel",
          "state": {
            "_view_name": "ProgressView",
            "style": "IPY_MODEL_49a132f869de46c5b905b2f4619d932a",
            "_dom_classes": [],
            "description": "outer loop: 100%",
            "_model_name": "FloatProgressModel",
            "bar_style": "success",
            "max": 3,
            "_view_module": "@jupyter-widgets/controls",
            "_model_module_version": "1.5.0",
            "value": 3,
            "_view_count": null,
            "_view_module_version": "1.5.0",
            "orientation": "horizontal",
            "min": 0,
            "description_tooltip": null,
            "_model_module": "@jupyter-widgets/controls",
            "layout": "IPY_MODEL_8055265b46714ad381b22158361e1dbb"
          }
        },
        "5dbf96feb1e04a9f82d46549e4a9f00e": {
          "model_module": "@jupyter-widgets/controls",
          "model_name": "HTMLModel",
          "state": {
            "_view_name": "HTMLView",
            "style": "IPY_MODEL_ae57a7c1576b4e88b7d9cecd937cd70c",
            "_dom_classes": [],
            "description": "",
            "_model_name": "HTMLModel",
            "placeholder": "​",
            "_view_module": "@jupyter-widgets/controls",
            "_model_module_version": "1.5.0",
            "value": " 3/3 [00:03&lt;00:00,  1.09s/it]",
            "_view_count": null,
            "_view_module_version": "1.5.0",
            "description_tooltip": null,
            "_model_module": "@jupyter-widgets/controls",
            "layout": "IPY_MODEL_9ef4a17d4c0a4153a4844c02fd041264"
          }
        },
        "49a132f869de46c5b905b2f4619d932a": {
          "model_module": "@jupyter-widgets/controls",
          "model_name": "ProgressStyleModel",
          "state": {
            "_view_name": "StyleView",
            "_model_name": "ProgressStyleModel",
            "description_width": "initial",
            "_view_module": "@jupyter-widgets/base",
            "_model_module_version": "1.5.0",
            "_view_count": null,
            "_view_module_version": "1.2.0",
            "bar_color": null,
            "_model_module": "@jupyter-widgets/controls"
          }
        },
        "8055265b46714ad381b22158361e1dbb": {
          "model_module": "@jupyter-widgets/base",
          "model_name": "LayoutModel",
          "state": {
            "_view_name": "LayoutView",
            "grid_template_rows": null,
            "right": null,
            "justify_content": null,
            "_view_module": "@jupyter-widgets/base",
            "overflow": null,
            "_model_module_version": "1.2.0",
            "_view_count": null,
            "flex_flow": null,
            "width": null,
            "min_width": null,
            "border": null,
            "align_items": null,
            "bottom": null,
            "_model_module": "@jupyter-widgets/base",
            "top": null,
            "grid_column": null,
            "overflow_y": null,
            "overflow_x": null,
            "grid_auto_flow": null,
            "grid_area": null,
            "grid_template_columns": null,
            "flex": null,
            "_model_name": "LayoutModel",
            "justify_items": null,
            "grid_row": null,
            "max_height": null,
            "align_content": null,
            "visibility": null,
            "align_self": null,
            "height": null,
            "min_height": null,
            "padding": null,
            "grid_auto_rows": null,
            "grid_gap": null,
            "max_width": null,
            "order": null,
            "_view_module_version": "1.2.0",
            "grid_template_areas": null,
            "object_position": null,
            "object_fit": null,
            "grid_auto_columns": null,
            "margin": null,
            "display": null,
            "left": null
          }
        },
        "ae57a7c1576b4e88b7d9cecd937cd70c": {
          "model_module": "@jupyter-widgets/controls",
          "model_name": "DescriptionStyleModel",
          "state": {
            "_view_name": "StyleView",
            "_model_name": "DescriptionStyleModel",
            "description_width": "",
            "_view_module": "@jupyter-widgets/base",
            "_model_module_version": "1.5.0",
            "_view_count": null,
            "_view_module_version": "1.2.0",
            "_model_module": "@jupyter-widgets/controls"
          }
        },
        "9ef4a17d4c0a4153a4844c02fd041264": {
          "model_module": "@jupyter-widgets/base",
          "model_name": "LayoutModel",
          "state": {
            "_view_name": "LayoutView",
            "grid_template_rows": null,
            "right": null,
            "justify_content": null,
            "_view_module": "@jupyter-widgets/base",
            "overflow": null,
            "_model_module_version": "1.2.0",
            "_view_count": null,
            "flex_flow": null,
            "width": null,
            "min_width": null,
            "border": null,
            "align_items": null,
            "bottom": null,
            "_model_module": "@jupyter-widgets/base",
            "top": null,
            "grid_column": null,
            "overflow_y": null,
            "overflow_x": null,
            "grid_auto_flow": null,
            "grid_area": null,
            "grid_template_columns": null,
            "flex": null,
            "_model_name": "LayoutModel",
            "justify_items": null,
            "grid_row": null,
            "max_height": null,
            "align_content": null,
            "visibility": null,
            "align_self": null,
            "height": null,
            "min_height": null,
            "padding": null,
            "grid_auto_rows": null,
            "grid_gap": null,
            "max_width": null,
            "order": null,
            "_view_module_version": "1.2.0",
            "grid_template_areas": null,
            "object_position": null,
            "object_fit": null,
            "grid_auto_columns": null,
            "margin": null,
            "display": null,
            "left": null
          }
        },
        "546395ccf8234cbe8e7b42f543ee8dac": {
          "model_module": "@jupyter-widgets/controls",
          "model_name": "HBoxModel",
          "state": {
            "_view_name": "HBoxView",
            "_dom_classes": [],
            "_model_name": "HBoxModel",
            "_view_module": "@jupyter-widgets/controls",
            "_model_module_version": "1.5.0",
            "_view_count": null,
            "_view_module_version": "1.5.0",
            "box_style": "",
            "layout": "IPY_MODEL_21879bad8a1044d09adf8a02e620257f",
            "_model_module": "@jupyter-widgets/controls",
            "children": [
              "IPY_MODEL_fefb51e308e4498cbfbc7ada3a6c8534",
              "IPY_MODEL_cce3834014414314a36ce73a51c3fcb8"
            ]
          }
        },
        "21879bad8a1044d09adf8a02e620257f": {
          "model_module": "@jupyter-widgets/base",
          "model_name": "LayoutModel",
          "state": {
            "_view_name": "LayoutView",
            "grid_template_rows": null,
            "right": null,
            "justify_content": null,
            "_view_module": "@jupyter-widgets/base",
            "overflow": null,
            "_model_module_version": "1.2.0",
            "_view_count": null,
            "flex_flow": null,
            "width": null,
            "min_width": null,
            "border": null,
            "align_items": null,
            "bottom": null,
            "_model_module": "@jupyter-widgets/base",
            "top": null,
            "grid_column": null,
            "overflow_y": null,
            "overflow_x": null,
            "grid_auto_flow": null,
            "grid_area": null,
            "grid_template_columns": null,
            "flex": null,
            "_model_name": "LayoutModel",
            "justify_items": null,
            "grid_row": null,
            "max_height": null,
            "align_content": null,
            "visibility": null,
            "align_self": null,
            "height": null,
            "min_height": null,
            "padding": null,
            "grid_auto_rows": null,
            "grid_gap": null,
            "max_width": null,
            "order": null,
            "_view_module_version": "1.2.0",
            "grid_template_areas": null,
            "object_position": null,
            "object_fit": null,
            "grid_auto_columns": null,
            "margin": null,
            "display": null,
            "left": null
          }
        },
        "fefb51e308e4498cbfbc7ada3a6c8534": {
          "model_module": "@jupyter-widgets/controls",
          "model_name": "FloatProgressModel",
          "state": {
            "_view_name": "ProgressView",
            "style": "IPY_MODEL_cd6a382b742f4b1ab5f13d48eff5947b",
            "_dom_classes": [],
            "description": "inner loop: 100%",
            "_model_name": "FloatProgressModel",
            "bar_style": "success",
            "max": 100,
            "_view_module": "@jupyter-widgets/controls",
            "_model_module_version": "1.5.0",
            "value": 100,
            "_view_count": null,
            "_view_module_version": "1.5.0",
            "orientation": "horizontal",
            "min": 0,
            "description_tooltip": null,
            "_model_module": "@jupyter-widgets/controls",
            "layout": "IPY_MODEL_2616ef41a4914d5ca345302291935fff"
          }
        },
        "cce3834014414314a36ce73a51c3fcb8": {
          "model_module": "@jupyter-widgets/controls",
          "model_name": "HTMLModel",
          "state": {
            "_view_name": "HTMLView",
            "style": "IPY_MODEL_c4da7560149a40cf81aaaf764eb7f94f",
            "_dom_classes": [],
            "description": "",
            "_model_name": "HTMLModel",
            "placeholder": "​",
            "_view_module": "@jupyter-widgets/controls",
            "_model_module_version": "1.5.0",
            "value": " 100/100 [00:01&lt;00:00, 92.38it/s]",
            "_view_count": null,
            "_view_module_version": "1.5.0",
            "description_tooltip": null,
            "_model_module": "@jupyter-widgets/controls",
            "layout": "IPY_MODEL_29668d3d1c1f4f858674974479885ac5"
          }
        },
        "cd6a382b742f4b1ab5f13d48eff5947b": {
          "model_module": "@jupyter-widgets/controls",
          "model_name": "ProgressStyleModel",
          "state": {
            "_view_name": "StyleView",
            "_model_name": "ProgressStyleModel",
            "description_width": "initial",
            "_view_module": "@jupyter-widgets/base",
            "_model_module_version": "1.5.0",
            "_view_count": null,
            "_view_module_version": "1.2.0",
            "bar_color": null,
            "_model_module": "@jupyter-widgets/controls"
          }
        },
        "2616ef41a4914d5ca345302291935fff": {
          "model_module": "@jupyter-widgets/base",
          "model_name": "LayoutModel",
          "state": {
            "_view_name": "LayoutView",
            "grid_template_rows": null,
            "right": null,
            "justify_content": null,
            "_view_module": "@jupyter-widgets/base",
            "overflow": null,
            "_model_module_version": "1.2.0",
            "_view_count": null,
            "flex_flow": null,
            "width": null,
            "min_width": null,
            "border": null,
            "align_items": null,
            "bottom": null,
            "_model_module": "@jupyter-widgets/base",
            "top": null,
            "grid_column": null,
            "overflow_y": null,
            "overflow_x": null,
            "grid_auto_flow": null,
            "grid_area": null,
            "grid_template_columns": null,
            "flex": null,
            "_model_name": "LayoutModel",
            "justify_items": null,
            "grid_row": null,
            "max_height": null,
            "align_content": null,
            "visibility": null,
            "align_self": null,
            "height": null,
            "min_height": null,
            "padding": null,
            "grid_auto_rows": null,
            "grid_gap": null,
            "max_width": null,
            "order": null,
            "_view_module_version": "1.2.0",
            "grid_template_areas": null,
            "object_position": null,
            "object_fit": null,
            "grid_auto_columns": null,
            "margin": null,
            "display": null,
            "left": null
          }
        },
        "c4da7560149a40cf81aaaf764eb7f94f": {
          "model_module": "@jupyter-widgets/controls",
          "model_name": "DescriptionStyleModel",
          "state": {
            "_view_name": "StyleView",
            "_model_name": "DescriptionStyleModel",
            "description_width": "",
            "_view_module": "@jupyter-widgets/base",
            "_model_module_version": "1.5.0",
            "_view_count": null,
            "_view_module_version": "1.2.0",
            "_model_module": "@jupyter-widgets/controls"
          }
        },
        "29668d3d1c1f4f858674974479885ac5": {
          "model_module": "@jupyter-widgets/base",
          "model_name": "LayoutModel",
          "state": {
            "_view_name": "LayoutView",
            "grid_template_rows": null,
            "right": null,
            "justify_content": null,
            "_view_module": "@jupyter-widgets/base",
            "overflow": null,
            "_model_module_version": "1.2.0",
            "_view_count": null,
            "flex_flow": null,
            "width": null,
            "min_width": null,
            "border": null,
            "align_items": null,
            "bottom": null,
            "_model_module": "@jupyter-widgets/base",
            "top": null,
            "grid_column": null,
            "overflow_y": null,
            "overflow_x": null,
            "grid_auto_flow": null,
            "grid_area": null,
            "grid_template_columns": null,
            "flex": null,
            "_model_name": "LayoutModel",
            "justify_items": null,
            "grid_row": null,
            "max_height": null,
            "align_content": null,
            "visibility": null,
            "align_self": null,
            "height": null,
            "min_height": null,
            "padding": null,
            "grid_auto_rows": null,
            "grid_gap": null,
            "max_width": null,
            "order": null,
            "_view_module_version": "1.2.0",
            "grid_template_areas": null,
            "object_position": null,
            "object_fit": null,
            "grid_auto_columns": null,
            "margin": null,
            "display": null,
            "left": null
          }
        },
        "18da2b7f0cd94f0dab1c358dddaad936": {
          "model_module": "@jupyter-widgets/controls",
          "model_name": "HBoxModel",
          "state": {
            "_view_name": "HBoxView",
            "_dom_classes": [],
            "_model_name": "HBoxModel",
            "_view_module": "@jupyter-widgets/controls",
            "_model_module_version": "1.5.0",
            "_view_count": null,
            "_view_module_version": "1.5.0",
            "box_style": "",
            "layout": "IPY_MODEL_5b7459c56380433e9cb30ec44958e098",
            "_model_module": "@jupyter-widgets/controls",
            "children": [
              "IPY_MODEL_fa7eaa9ccf3b4ad28b141dc148f6a543",
              "IPY_MODEL_991e64b2294a425b88bfd9dace2e2e11"
            ]
          }
        },
        "5b7459c56380433e9cb30ec44958e098": {
          "model_module": "@jupyter-widgets/base",
          "model_name": "LayoutModel",
          "state": {
            "_view_name": "LayoutView",
            "grid_template_rows": null,
            "right": null,
            "justify_content": null,
            "_view_module": "@jupyter-widgets/base",
            "overflow": null,
            "_model_module_version": "1.2.0",
            "_view_count": null,
            "flex_flow": null,
            "width": null,
            "min_width": null,
            "border": null,
            "align_items": null,
            "bottom": null,
            "_model_module": "@jupyter-widgets/base",
            "top": null,
            "grid_column": null,
            "overflow_y": null,
            "overflow_x": null,
            "grid_auto_flow": null,
            "grid_area": null,
            "grid_template_columns": null,
            "flex": null,
            "_model_name": "LayoutModel",
            "justify_items": null,
            "grid_row": null,
            "max_height": null,
            "align_content": null,
            "visibility": null,
            "align_self": null,
            "height": null,
            "min_height": null,
            "padding": null,
            "grid_auto_rows": null,
            "grid_gap": null,
            "max_width": null,
            "order": null,
            "_view_module_version": "1.2.0",
            "grid_template_areas": null,
            "object_position": null,
            "object_fit": null,
            "grid_auto_columns": null,
            "margin": null,
            "display": null,
            "left": null
          }
        },
        "fa7eaa9ccf3b4ad28b141dc148f6a543": {
          "model_module": "@jupyter-widgets/controls",
          "model_name": "FloatProgressModel",
          "state": {
            "_view_name": "ProgressView",
            "style": "IPY_MODEL_f4b93f8e8d7c4f04915fbae2a038fbe3",
            "_dom_classes": [],
            "description": "inner loop: 100%",
            "_model_name": "FloatProgressModel",
            "bar_style": "success",
            "max": 100,
            "_view_module": "@jupyter-widgets/controls",
            "_model_module_version": "1.5.0",
            "value": 100,
            "_view_count": null,
            "_view_module_version": "1.5.0",
            "orientation": "horizontal",
            "min": 0,
            "description_tooltip": null,
            "_model_module": "@jupyter-widgets/controls",
            "layout": "IPY_MODEL_c26721c968f34189ae7211f4bb6cc5a9"
          }
        },
        "991e64b2294a425b88bfd9dace2e2e11": {
          "model_module": "@jupyter-widgets/controls",
          "model_name": "HTMLModel",
          "state": {
            "_view_name": "HTMLView",
            "style": "IPY_MODEL_869a408a183d4c9da250d27d6f4b524a",
            "_dom_classes": [],
            "description": "",
            "_model_name": "HTMLModel",
            "placeholder": "​",
            "_view_module": "@jupyter-widgets/controls",
            "_model_module_version": "1.5.0",
            "value": " 100/100 [00:31&lt;00:00,  3.14it/s]",
            "_view_count": null,
            "_view_module_version": "1.5.0",
            "description_tooltip": null,
            "_model_module": "@jupyter-widgets/controls",
            "layout": "IPY_MODEL_44c1e93b4efd4959953a01747646f7ff"
          }
        },
        "f4b93f8e8d7c4f04915fbae2a038fbe3": {
          "model_module": "@jupyter-widgets/controls",
          "model_name": "ProgressStyleModel",
          "state": {
            "_view_name": "StyleView",
            "_model_name": "ProgressStyleModel",
            "description_width": "initial",
            "_view_module": "@jupyter-widgets/base",
            "_model_module_version": "1.5.0",
            "_view_count": null,
            "_view_module_version": "1.2.0",
            "bar_color": null,
            "_model_module": "@jupyter-widgets/controls"
          }
        },
        "c26721c968f34189ae7211f4bb6cc5a9": {
          "model_module": "@jupyter-widgets/base",
          "model_name": "LayoutModel",
          "state": {
            "_view_name": "LayoutView",
            "grid_template_rows": null,
            "right": null,
            "justify_content": null,
            "_view_module": "@jupyter-widgets/base",
            "overflow": null,
            "_model_module_version": "1.2.0",
            "_view_count": null,
            "flex_flow": null,
            "width": null,
            "min_width": null,
            "border": null,
            "align_items": null,
            "bottom": null,
            "_model_module": "@jupyter-widgets/base",
            "top": null,
            "grid_column": null,
            "overflow_y": null,
            "overflow_x": null,
            "grid_auto_flow": null,
            "grid_area": null,
            "grid_template_columns": null,
            "flex": null,
            "_model_name": "LayoutModel",
            "justify_items": null,
            "grid_row": null,
            "max_height": null,
            "align_content": null,
            "visibility": null,
            "align_self": null,
            "height": null,
            "min_height": null,
            "padding": null,
            "grid_auto_rows": null,
            "grid_gap": null,
            "max_width": null,
            "order": null,
            "_view_module_version": "1.2.0",
            "grid_template_areas": null,
            "object_position": null,
            "object_fit": null,
            "grid_auto_columns": null,
            "margin": null,
            "display": null,
            "left": null
          }
        },
        "869a408a183d4c9da250d27d6f4b524a": {
          "model_module": "@jupyter-widgets/controls",
          "model_name": "DescriptionStyleModel",
          "state": {
            "_view_name": "StyleView",
            "_model_name": "DescriptionStyleModel",
            "description_width": "",
            "_view_module": "@jupyter-widgets/base",
            "_model_module_version": "1.5.0",
            "_view_count": null,
            "_view_module_version": "1.2.0",
            "_model_module": "@jupyter-widgets/controls"
          }
        },
        "44c1e93b4efd4959953a01747646f7ff": {
          "model_module": "@jupyter-widgets/base",
          "model_name": "LayoutModel",
          "state": {
            "_view_name": "LayoutView",
            "grid_template_rows": null,
            "right": null,
            "justify_content": null,
            "_view_module": "@jupyter-widgets/base",
            "overflow": null,
            "_model_module_version": "1.2.0",
            "_view_count": null,
            "flex_flow": null,
            "width": null,
            "min_width": null,
            "border": null,
            "align_items": null,
            "bottom": null,
            "_model_module": "@jupyter-widgets/base",
            "top": null,
            "grid_column": null,
            "overflow_y": null,
            "overflow_x": null,
            "grid_auto_flow": null,
            "grid_area": null,
            "grid_template_columns": null,
            "flex": null,
            "_model_name": "LayoutModel",
            "justify_items": null,
            "grid_row": null,
            "max_height": null,
            "align_content": null,
            "visibility": null,
            "align_self": null,
            "height": null,
            "min_height": null,
            "padding": null,
            "grid_auto_rows": null,
            "grid_gap": null,
            "max_width": null,
            "order": null,
            "_view_module_version": "1.2.0",
            "grid_template_areas": null,
            "object_position": null,
            "object_fit": null,
            "grid_auto_columns": null,
            "margin": null,
            "display": null,
            "left": null
          }
        },
        "aee78673bd164c3595e791419b9be823": {
          "model_module": "@jupyter-widgets/controls",
          "model_name": "HBoxModel",
          "state": {
            "_view_name": "HBoxView",
            "_dom_classes": [],
            "_model_name": "HBoxModel",
            "_view_module": "@jupyter-widgets/controls",
            "_model_module_version": "1.5.0",
            "_view_count": null,
            "_view_module_version": "1.5.0",
            "box_style": "",
            "layout": "IPY_MODEL_6c37d036f87a4e2c82d5dc34dd816904",
            "_model_module": "@jupyter-widgets/controls",
            "children": [
              "IPY_MODEL_305a3045fd4748619cd3352914443867",
              "IPY_MODEL_3139a73df66b4ae4a5824f3c822b6413"
            ]
          }
        },
        "6c37d036f87a4e2c82d5dc34dd816904": {
          "model_module": "@jupyter-widgets/base",
          "model_name": "LayoutModel",
          "state": {
            "_view_name": "LayoutView",
            "grid_template_rows": null,
            "right": null,
            "justify_content": null,
            "_view_module": "@jupyter-widgets/base",
            "overflow": null,
            "_model_module_version": "1.2.0",
            "_view_count": null,
            "flex_flow": null,
            "width": null,
            "min_width": null,
            "border": null,
            "align_items": null,
            "bottom": null,
            "_model_module": "@jupyter-widgets/base",
            "top": null,
            "grid_column": null,
            "overflow_y": null,
            "overflow_x": null,
            "grid_auto_flow": null,
            "grid_area": null,
            "grid_template_columns": null,
            "flex": null,
            "_model_name": "LayoutModel",
            "justify_items": null,
            "grid_row": null,
            "max_height": null,
            "align_content": null,
            "visibility": null,
            "align_self": null,
            "height": null,
            "min_height": null,
            "padding": null,
            "grid_auto_rows": null,
            "grid_gap": null,
            "max_width": null,
            "order": null,
            "_view_module_version": "1.2.0",
            "grid_template_areas": null,
            "object_position": null,
            "object_fit": null,
            "grid_auto_columns": null,
            "margin": null,
            "display": null,
            "left": null
          }
        },
        "305a3045fd4748619cd3352914443867": {
          "model_module": "@jupyter-widgets/controls",
          "model_name": "FloatProgressModel",
          "state": {
            "_view_name": "ProgressView",
            "style": "IPY_MODEL_5cb51971f7f04e77816a76b784498a9e",
            "_dom_classes": [],
            "description": "inner loop: 100%",
            "_model_name": "FloatProgressModel",
            "bar_style": "success",
            "max": 100,
            "_view_module": "@jupyter-widgets/controls",
            "_model_module_version": "1.5.0",
            "value": 100,
            "_view_count": null,
            "_view_module_version": "1.5.0",
            "orientation": "horizontal",
            "min": 0,
            "description_tooltip": null,
            "_model_module": "@jupyter-widgets/controls",
            "layout": "IPY_MODEL_2e1e031e8e2e4064a9155baee6adfb55"
          }
        },
        "3139a73df66b4ae4a5824f3c822b6413": {
          "model_module": "@jupyter-widgets/controls",
          "model_name": "HTMLModel",
          "state": {
            "_view_name": "HTMLView",
            "style": "IPY_MODEL_8a5c3ce8e4bf42feb94ee3f9211f708c",
            "_dom_classes": [],
            "description": "",
            "_model_name": "HTMLModel",
            "placeholder": "​",
            "_view_module": "@jupyter-widgets/controls",
            "_model_module_version": "1.5.0",
            "value": " 100/100 [00:30&lt;00:00,  3.25it/s]",
            "_view_count": null,
            "_view_module_version": "1.5.0",
            "description_tooltip": null,
            "_model_module": "@jupyter-widgets/controls",
            "layout": "IPY_MODEL_e246485da2af463a8a0d7ef6891891a8"
          }
        },
        "5cb51971f7f04e77816a76b784498a9e": {
          "model_module": "@jupyter-widgets/controls",
          "model_name": "ProgressStyleModel",
          "state": {
            "_view_name": "StyleView",
            "_model_name": "ProgressStyleModel",
            "description_width": "initial",
            "_view_module": "@jupyter-widgets/base",
            "_model_module_version": "1.5.0",
            "_view_count": null,
            "_view_module_version": "1.2.0",
            "bar_color": null,
            "_model_module": "@jupyter-widgets/controls"
          }
        },
        "2e1e031e8e2e4064a9155baee6adfb55": {
          "model_module": "@jupyter-widgets/base",
          "model_name": "LayoutModel",
          "state": {
            "_view_name": "LayoutView",
            "grid_template_rows": null,
            "right": null,
            "justify_content": null,
            "_view_module": "@jupyter-widgets/base",
            "overflow": null,
            "_model_module_version": "1.2.0",
            "_view_count": null,
            "flex_flow": null,
            "width": null,
            "min_width": null,
            "border": null,
            "align_items": null,
            "bottom": null,
            "_model_module": "@jupyter-widgets/base",
            "top": null,
            "grid_column": null,
            "overflow_y": null,
            "overflow_x": null,
            "grid_auto_flow": null,
            "grid_area": null,
            "grid_template_columns": null,
            "flex": null,
            "_model_name": "LayoutModel",
            "justify_items": null,
            "grid_row": null,
            "max_height": null,
            "align_content": null,
            "visibility": null,
            "align_self": null,
            "height": null,
            "min_height": null,
            "padding": null,
            "grid_auto_rows": null,
            "grid_gap": null,
            "max_width": null,
            "order": null,
            "_view_module_version": "1.2.0",
            "grid_template_areas": null,
            "object_position": null,
            "object_fit": null,
            "grid_auto_columns": null,
            "margin": null,
            "display": null,
            "left": null
          }
        },
        "8a5c3ce8e4bf42feb94ee3f9211f708c": {
          "model_module": "@jupyter-widgets/controls",
          "model_name": "DescriptionStyleModel",
          "state": {
            "_view_name": "StyleView",
            "_model_name": "DescriptionStyleModel",
            "description_width": "",
            "_view_module": "@jupyter-widgets/base",
            "_model_module_version": "1.5.0",
            "_view_count": null,
            "_view_module_version": "1.2.0",
            "_model_module": "@jupyter-widgets/controls"
          }
        },
        "e246485da2af463a8a0d7ef6891891a8": {
          "model_module": "@jupyter-widgets/base",
          "model_name": "LayoutModel",
          "state": {
            "_view_name": "LayoutView",
            "grid_template_rows": null,
            "right": null,
            "justify_content": null,
            "_view_module": "@jupyter-widgets/base",
            "overflow": null,
            "_model_module_version": "1.2.0",
            "_view_count": null,
            "flex_flow": null,
            "width": null,
            "min_width": null,
            "border": null,
            "align_items": null,
            "bottom": null,
            "_model_module": "@jupyter-widgets/base",
            "top": null,
            "grid_column": null,
            "overflow_y": null,
            "overflow_x": null,
            "grid_auto_flow": null,
            "grid_area": null,
            "grid_template_columns": null,
            "flex": null,
            "_model_name": "LayoutModel",
            "justify_items": null,
            "grid_row": null,
            "max_height": null,
            "align_content": null,
            "visibility": null,
            "align_self": null,
            "height": null,
            "min_height": null,
            "padding": null,
            "grid_auto_rows": null,
            "grid_gap": null,
            "max_width": null,
            "order": null,
            "_view_module_version": "1.2.0",
            "grid_template_areas": null,
            "object_position": null,
            "object_fit": null,
            "grid_auto_columns": null,
            "margin": null,
            "display": null,
            "left": null
          }
        }
      }
    }
  },
  "cells": [
    {
      "cell_type": "markdown",
      "metadata": {
        "id": "YvOEr0ObyYpY"
      },
      "source": [
        "# TQDM: the pretty bar"
      ]
    },
    {
      "cell_type": "code",
      "metadata": {
        "id": "Wo_blYRPl7aw"
      },
      "source": [
        "from tqdm import tqdm, trange\n",
        "from time import sleep\n",
        "from random import random"
      ],
      "execution_count": null,
      "outputs": []
    },
    {
      "cell_type": "code",
      "metadata": {
        "id": "P-p0PRs-s4bC",
        "colab": {
          "base_uri": "https://localhost:8080/"
        },
        "outputId": "4f0b6cee-bad3-4f33-f52c-d7a85a66d0a7"
      },
      "source": [
        "for i in tqdm(range(int(9e6))):\n",
        "  pass"
      ],
      "execution_count": null,
      "outputs": [
        {
          "output_type": "stream",
          "text": [
            "100%|██████████| 9000000/9000000 [00:02<00:00, 4334194.46it/s]\n"
          ],
          "name": "stderr"
        }
      ]
    },
    {
      "cell_type": "code",
      "metadata": {
        "id": "LYBALLxhms-n",
        "colab": {
          "base_uri": "https://localhost:8080/"
        },
        "outputId": "5d9ab851-4c8d-4cf1-d1e9-8c4235d8f9f0"
      },
      "source": [
        "for i in trange(int(9e6)):\n",
        "  pass"
      ],
      "execution_count": null,
      "outputs": [
        {
          "output_type": "stream",
          "text": [
            "100%|██████████| 9000000/9000000 [00:02<00:00, 4356020.29it/s]\n"
          ],
          "name": "stderr"
        }
      ]
    },
    {
      "cell_type": "code",
      "metadata": {
        "id": "6vFmX4xTlS47",
        "colab": {
          "base_uri": "https://localhost:8080/"
        },
        "outputId": "53f683e1-a89d-4a68-bf47-6924abadaaf5"
      },
      "source": [
        "!tqdm --help"
      ],
      "execution_count": null,
      "outputs": [
        {
          "output_type": "stream",
          "text": [
            "Usage:\n",
            "  tqdm [--help | options]\n",
            "\n",
            "Options:\n",
            "  -h, --help     Print this help and exit\n",
            "  -v, --version  Print version and exit\n",
            "\n",
            "  --desc=<desc>  : str, optional\n",
            "            Prefix for the progressbar.\n",
            "  --total=<total>  : int, optional\n",
            "            The number of expected iterations. If unspecified,\n",
            "            len(iterable) is used if possible. As a last resort, only basic\n",
            "            progress statistics are displayed (no ETA, no progressbar).\n",
            "            If `gui` is True and this parameter needs subsequent updating,\n",
            "            specify an initial arbitrary large positive integer,\n",
            "            e.g. int(9e9).\n",
            "  --leave=<leave>  : bool, optional\n",
            "            If [default: True], keeps all traces of the progressbar\n",
            "            upon termination of iteration.\n",
            "  --ncols=<ncols>  : int, optional\n",
            "            The width of the entire output message. If specified,\n",
            "            dynamically resizes the progressbar to stay within this bound.\n",
            "            If unspecified, attempts to use environment width. The\n",
            "            fallback is a meter width of 10 and no limit for the counter and\n",
            "            statistics. If 0, will not print any meter (only stats).\n",
            "  --mininterval=<mininterval>  : float, optional\n",
            "            Minimum progress display update interval [default: 0.1] seconds.\n",
            "  --maxinterval=<maxinterval>  : float, optional\n",
            "            Maximum progress display update interval [default: 10] seconds.\n",
            "            Automatically adjusts `miniters` to correspond to `mininterval`\n",
            "            after long display update lag. Only works if `dynamic_miniters`\n",
            "            or monitor thread is enabled.\n",
            "  --miniters=<miniters>  : int, optional\n",
            "            Minimum progress display update interval, in iterations.\n",
            "            If 0 and `dynamic_miniters`, will automatically adjust to equal\n",
            "            `mininterval` (more CPU efficient, good for tight loops).\n",
            "            If > 0, will skip display of specified number of iterations.\n",
            "            Tweak this and `mininterval` to get very efficient loops.\n",
            "            If your progress is erratic with both fast and slow iterations\n",
            "            (network, skipping items, etc) you should set miniters=1.\n",
            "  --ascii=<ascii>  : bool, optional\n",
            "            If unspecified or False, use unicode (smooth blocks) to fill\n",
            "            the meter. The fallback is to use ASCII characters `1-9 #`.\n",
            "  --disable=<disable>  : bool, optional\n",
            "            Whether to disable the entire progressbar wrapper\n",
            "            [default: False]. If set to None, disable on non-TTY.\n",
            "  --unit=<unit>  : str, optional\n",
            "            String that will be used to define the unit of each iteration\n",
            "            [default: it].\n",
            "  --unit_scale=<unit_scale>  : bool or int or float, optional\n",
            "            If 1 or True, the number of iterations will be reduced/scaled\n",
            "            automatically and a metric prefix following the\n",
            "            International System of Units standard will be added\n",
            "            (kilo, mega, etc.) [default: False]. If any other non-zero\n",
            "            number, will scale `total` and `n`.\n",
            "  --dynamic_ncols=<dynamic_ncols>  : bool, optional\n",
            "            If set, constantly alters `ncols` to the environment (allowing\n",
            "            for window resizes) [default: False].\n",
            "  --smoothing=<smoothing>  : float, optional\n",
            "            Exponential moving average smoothing factor for speed estimates\n",
            "            (ignored in GUI mode). Ranges from 0 (average speed) to 1\n",
            "            (current/instantaneous speed) [default: 0.3].\n",
            "  --bar_format=<bar_format>  : str, optional\n",
            "            Specify a custom bar string formatting. May impact performance.\n",
            "            [default: '{l_bar}{bar}{r_bar}'], where\n",
            "            l_bar='{desc}: {percentage:3.0f}%|' and\n",
            "            r_bar='| {n_fmt}/{total_fmt} [{elapsed}<{remaining}, '\n",
            "              '{rate_fmt}{postfix}]'\n",
            "            Possible vars: l_bar, bar, r_bar, n, n_fmt, total, total_fmt,\n",
            "              percentage, rate, rate_fmt, rate_noinv, rate_noinv_fmt,\n",
            "              rate_inv, rate_inv_fmt, elapsed, remaining, desc, postfix.\n",
            "            Note that a trailing \": \" is automatically removed after {desc}\n",
            "            if the latter is empty.\n",
            "  --initial=<initial>  : int, optional\n",
            "            The initial counter value. Useful when restarting a progress\n",
            "            bar [default: 0].\n",
            "  --position=<position>  : int, optional\n",
            "            Specify the line offset to print this bar (starting from 0)\n",
            "            Automatic if unspecified.\n",
            "            Useful to manage multiple bars at once (eg, from threads).\n",
            "  --postfix=<postfix>  : dict or *, optional\n",
            "            Specify additional stats to display at the end of the bar.\n",
            "            Calls `set_postfix(**postfix)` if possible (dict).\n",
            "  --unit_divisor=<unit_divisor>  : float, optional\n",
            "            [default: 1000], ignored unless `unit_scale` is True.\n",
            "  --delim=<delim>  : chr, optional\n",
            "            Delimiting character [default: '\\n']. Use '\\0' for null.\n",
            "            N.B.: on Windows systems, Python converts '\\n' to '\\r\\n'.\n",
            "  --buf_size=<buf_size>  : int, optional\n",
            "            String buffer size in bytes [default: 256]\n",
            "            used when `delim` is specified.\n",
            "  --bytes=<bytes>  : bool, optional\n",
            "            If true, will count bytes, ignore `delim`, and default\n",
            "            `unit_scale` to True, `unit_divisor` to 1024, and `unit` to 'B'.\n",
            "  --manpath=<manpath>  : str, optional\n",
            "            Directory in which to install tqdm man pages.\n",
            "  --log=<log>  : str, optional\n",
            "            CRITICAL|FATAL|ERROR|WARN(ING)|[default: 'INFO']|DEBUG|NOTSET.\n",
            "\n"
          ],
          "name": "stdout"
        }
      ]
    },
    {
      "cell_type": "code",
      "metadata": {
        "colab": {
          "base_uri": "https://localhost:8080/"
        },
        "id": "_zVf2jSvvYYd",
        "outputId": "abd07491-34c1-4e88-f379-f0684f56b03d"
      },
      "source": [
        "for i in tqdm(range(int(9e6))):\n",
        "  pass\n",
        "\n",
        "for i in tqdm(range(int(9e6)), unit_scale=1):\n",
        "  pass\n",
        "\n",
        "for i in tqdm(range(int(9e7)), unit_scale=1, unit_divisor=10):\n",
        "  pass"
      ],
      "execution_count": null,
      "outputs": [
        {
          "output_type": "stream",
          "text": [
            "100%|██████████| 9000000/9000000 [00:02<00:00, 4339080.81it/s]\n",
            "100%|██████████| 9.00M/9.00M [00:02<00:00, 4.31Mit/s]\n",
            "100%|██████████| 900P/900P [00:19<00:00, 4.73Mit/s]\n"
          ],
          "name": "stderr"
        }
      ]
    },
    {
      "cell_type": "code",
      "metadata": {
        "colab": {
          "base_uri": "https://localhost:8080/"
        },
        "id": "9NZK4lu7wgM2",
        "outputId": "e34ce5d9-3aa3-4d5a-c343-b2dacc0a21c1"
      },
      "source": [
        "for i in trange(10, initial=90, total=100):\n",
        "  sleep(0.4)"
      ],
      "execution_count": null,
      "outputs": [
        {
          "output_type": "stream",
          "text": [
            "100%|██████████| 100/100 [00:04<00:00, 24.90it/s]\n"
          ],
          "name": "stderr"
        }
      ]
    },
    {
      "cell_type": "code",
      "metadata": {
        "id": "1Ajj_AwHtwG2",
        "colab": {
          "base_uri": "https://localhost:8080/"
        },
        "outputId": "450d1866-fb0d-4e39-dcab-3db84ec9df3c"
      },
      "source": [
        "for i in tqdm(range(100), ncols=100):\n",
        "  sleep(0.1)\n",
        "\n",
        "for i in tqdm(range(100), ncols=100, mininterval=1):\n",
        "  sleep(0.1)\n",
        "\n",
        "\n",
        "for i in tqdm(range(100), ncols=100, miniters=5):\n",
        "  sleep(0.1)"
      ],
      "execution_count": null,
      "outputs": [
        {
          "output_type": "stream",
          "text": [
            "100%|█████████████████████████████████████████████████████████████| 100/100 [00:10<00:00,  9.89it/s]\n",
            "100%|█████████████████████████████████████████████████████████████| 100/100 [00:10<00:00,  9.97it/s]\n",
            "100%|█████████████████████████████████████████████████████████████| 100/100 [00:10<00:00,  9.96it/s]\n"
          ],
          "name": "stderr"
        }
      ]
    },
    {
      "cell_type": "code",
      "metadata": {
        "id": "x5HspJBAxJ0-",
        "colab": {
          "base_uri": "https://localhost:8080/"
        },
        "outputId": "493d0ec4-9a76-49bf-beec-1fd6c866772d"
      },
      "source": [
        "for i in tqdm(range(100), ascii=True):\n",
        "  sleep(0.1)\n",
        "\n",
        "for i in tqdm(range(100), ascii=\".oO0\"):\n",
        "  sleep(0.1)"
      ],
      "execution_count": null,
      "outputs": [
        {
          "output_type": "stream",
          "text": [
            "100%|##########| 100/100 [00:10<00:00,  9.88it/s]\n",
            "100%|0000000000| 100/100 [00:10<00:00,  9.88it/s]\n"
          ],
          "name": "stderr"
        }
      ]
    },
    {
      "cell_type": "code",
      "metadata": {
        "id": "Qzy7IyRozolj",
        "colab": {
          "base_uri": "https://localhost:8080/"
        },
        "outputId": "eaf0ccac-1b26-414c-9bb5-8062154aba9f"
      },
      "source": [
        "for i in tqdm(range(10), position=2):\n",
        "  sleep(0.1)"
      ],
      "execution_count": null,
      "outputs": [
        {
          "output_type": "stream",
          "text": [
            "\n",
            "\n",
            "  0%|          | 0/10 [00:00<?, ?it/s]\u001b[A\u001b[A\n",
            "\n",
            " 10%|█         | 1/10 [00:00<00:00,  9.98it/s]\u001b[A\u001b[A\n",
            "\n",
            " 20%|██        | 2/10 [00:00<00:00,  9.91it/s]\u001b[A\u001b[A\n",
            "\n",
            " 30%|███       | 3/10 [00:00<00:00,  9.87it/s]\u001b[A\u001b[A\n",
            "\n",
            " 40%|████      | 4/10 [00:00<00:00,  9.84it/s]\u001b[A\u001b[A\n",
            "\n",
            " 50%|█████     | 5/10 [00:00<00:00,  9.81it/s]\u001b[A\u001b[A\n",
            "\n",
            " 60%|██████    | 6/10 [00:00<00:00,  9.73it/s]\u001b[A\u001b[A\n",
            "\n",
            " 70%|███████   | 7/10 [00:00<00:00,  9.74it/s]\u001b[A\u001b[A\n",
            "\n",
            " 80%|████████  | 8/10 [00:00<00:00,  9.74it/s]\u001b[A\u001b[A\n",
            "\n",
            " 90%|█████████ | 9/10 [00:00<00:00,  9.67it/s]\u001b[A\u001b[A\n",
            "\n",
            "100%|██████████| 10/10 [00:01<00:00,  9.71it/s]\n"
          ],
          "name": "stderr"
        }
      ]
    },
    {
      "cell_type": "code",
      "metadata": {
        "id": "Rx8emDX4xB1B"
      },
      "source": [
        "for i in tqdm(range(10), disable=True):\n",
        "  sleep(0.25)"
      ],
      "execution_count": null,
      "outputs": []
    },
    {
      "cell_type": "code",
      "metadata": {
        "colab": {
          "base_uri": "https://localhost:8080/",
          "height": 215
        },
        "id": "unuqiDBsIhNb",
        "outputId": "167a6d00-1166-464e-897b-6c124652395f"
      },
      "source": [
        "#Wyjątki\n",
        "for i in tqdm(range(int(9e6))):\n",
        "  if i+2 == 9e6:\n",
        "    raise Exception"
      ],
      "execution_count": null,
      "outputs": [
        {
          "output_type": "stream",
          "text": [
            " 96%|█████████▋| 8679310/9000000 [00:02<00:00, 3084010.64it/s]\n"
          ],
          "name": "stderr"
        },
        {
          "output_type": "error",
          "ename": "Exception",
          "evalue": "ignored",
          "traceback": [
            "\u001b[0;31m---------------------------------------------------------------------------\u001b[0m",
            "\u001b[0;31mException\u001b[0m                                 Traceback (most recent call last)",
            "\u001b[0;32m<ipython-input-6-2da15b0e786d>\u001b[0m in \u001b[0;36m<module>\u001b[0;34m()\u001b[0m\n\u001b[1;32m      1\u001b[0m \u001b[0;32mfor\u001b[0m \u001b[0mi\u001b[0m \u001b[0;32min\u001b[0m \u001b[0mtqdm\u001b[0m\u001b[0;34m(\u001b[0m\u001b[0mrange\u001b[0m\u001b[0;34m(\u001b[0m\u001b[0mint\u001b[0m\u001b[0;34m(\u001b[0m\u001b[0;36m9e6\u001b[0m\u001b[0;34m)\u001b[0m\u001b[0;34m)\u001b[0m\u001b[0;34m)\u001b[0m\u001b[0;34m:\u001b[0m\u001b[0;34m\u001b[0m\u001b[0;34m\u001b[0m\u001b[0m\n\u001b[1;32m      2\u001b[0m   \u001b[0;32mif\u001b[0m \u001b[0mi\u001b[0m\u001b[0;34m+\u001b[0m\u001b[0;36m2\u001b[0m \u001b[0;34m==\u001b[0m \u001b[0;36m9e6\u001b[0m\u001b[0;34m:\u001b[0m\u001b[0;34m\u001b[0m\u001b[0;34m\u001b[0m\u001b[0m\n\u001b[0;32m----> 3\u001b[0;31m     \u001b[0;32mraise\u001b[0m \u001b[0mException\u001b[0m\u001b[0;34m(\u001b[0m\u001b[0;34m\"a\"\u001b[0m\u001b[0;34m)\u001b[0m\u001b[0;34m\u001b[0m\u001b[0;34m\u001b[0m\u001b[0m\n\u001b[0m",
            "\u001b[0;31mException\u001b[0m: a"
          ]
        }
      ]
    },
    {
      "cell_type": "code",
      "metadata": {
        "colab": {
          "base_uri": "https://localhost:8080/"
        },
        "id": "rL9h3DunIoYN",
        "outputId": "a2621c67-bc7e-434d-b68a-01445eb9c1a3"
      },
      "source": [
        "try:\n",
        "    with tqdm(range(int(9e6))) as t:\n",
        "        for i in t:\n",
        "          if i+2 == 9e6:\n",
        "            raise Exception\n",
        "except Exception:\n",
        "    t.close()\n",
        "t.close()"
      ],
      "execution_count": null,
      "outputs": [
        {
          "output_type": "stream",
          "text": [
            " 99%|█████████▉| 8892483/9000000 [00:02<00:00, 3110489.25it/s]\n"
          ],
          "name": "stderr"
        }
      ]
    },
    {
      "cell_type": "code",
      "metadata": {
        "id": "oCxYtnrjyG4U",
        "colab": {
          "base_uri": "https://localhost:8080/"
        },
        "outputId": "941d0b5a-af14-469e-d22a-dbebcae386bd"
      },
      "source": [
        "# Possible vars: l_bar, bar, r_bar, n, n_fmt, total, total_fmt,\n",
        "#               percentage, rate, rate_fmt, rate_noinv, rate_noinv_fmt,\n",
        "#               rate_inv, rate_inv_fmt, elapsed, remaining, desc, postfix.\n",
        "# l_bar='{desc}: {percentage:3.0f}%|'\n",
        "# r_bar='| {n_fmt}/{total_fmt} [{elapsed}<{remaining}, {rate_fmt}{postfix}]'\n",
        "\n",
        "for i in tqdm(range(10)):\n",
        "  sleep(0.25)\n",
        "\n",
        "for i in tqdm(range(10), bar_format='{bar}| {percentage:3.0f}% {r_bar}'):\n",
        "  sleep(0.25)\n",
        "\n",
        "for i in tqdm(range(10), bar_format='{bar} | {bar} {r_bar}'):\n",
        "  sleep(0.25)"
      ],
      "execution_count": null,
      "outputs": [
        {
          "output_type": "stream",
          "text": [
            "100%|██████████| 10/10 [00:02<00:00,  3.98it/s]\n",
            "██████████| 100% | 10/10 [00:02<00:00,  3.97it/s]\n",
            "██████████ | ██████████ | 10/10 [00:02<00:00,  3.98it/s]\n"
          ],
          "name": "stderr"
        }
      ]
    },
    {
      "cell_type": "code",
      "metadata": {
        "id": "g14Rt61OtqTJ",
        "colab": {
          "base_uri": "https://localhost:8080/"
        },
        "outputId": "54b14d1d-dd53-4579-b2bd-6f0d7dcee0f2"
      },
      "source": [
        "# tryb manualny!\n",
        "pbar = tqdm(total=100, unit=\"counted\")\n",
        "for i in range(1,11):\n",
        "    sleep(0.25)\n",
        "    pbar.set_description(\"Counting %s\" % i)\n",
        "    pbar.set_postfix(one_more=i+1)\n",
        "    pbar.update(10)\n",
        "pbar.close()"
      ],
      "execution_count": null,
      "outputs": [
        {
          "output_type": "stream",
          "text": [
            "Counting 10: 100%|██████████| 100/100 [00:02<00:00, 39.48counted/s, one_more=11]\n"
          ],
          "name": "stderr"
        }
      ]
    },
    {
      "cell_type": "code",
      "metadata": {
        "colab": {
          "base_uri": "https://localhost:8080/"
        },
        "id": "dZaZeOsW9SEe",
        "outputId": "59265b48-864a-4b5d-dff6-372b0dc7d3b1"
      },
      "source": [
        "# hooks and callbacks\n",
        "\n",
        "import urllib, os\n",
        "from tqdm import tqdm\n",
        "\n",
        "# inheritance\n",
        "class TqdmUpTo(tqdm):\n",
        "    \"\"\"Provides `update_to(n)` which uses `tqdm.update(delta_n)`.\"\"\"\n",
        "    def update_to(self, b=1, bsize=1, tsize=None):\n",
        "        \"\"\"\n",
        "        b  : int, optional\n",
        "            Number of blocks transferred so far [default: 1].\n",
        "        bsize  : int, optional\n",
        "            Size of each block (in tqdm units) [default: 1].\n",
        "        tsize  : int, optional\n",
        "            Total size (in tqdm units). If [default: None] remains unchanged.\n",
        "        \"\"\"\n",
        "        if tsize is not None:\n",
        "            self.total = tsize\n",
        "        return self.update(b * bsize - self.n)  # also sets self.n = b * bsize\n",
        "\n",
        "eg_link = \"https://caspersci.uk.to/matryoshka.zip\"\n",
        "with TqdmUpTo(unit='B', unit_scale=True, unit_divisor=1024, miniters=1,\n",
        "              desc=eg_link.split('/')[-1]) as t: \n",
        "\n",
        "    urllib.request.urlretrieve(eg_link, filename=os.devnull,\n",
        "                       reporthook=t.update_to, data=None)\n",
        "    t.total = t.n"
      ],
      "execution_count": null,
      "outputs": [
        {
          "output_type": "stream",
          "text": [
            "matryoshka.zip: 100%|██████████| 256k/256k [00:00<00:00, 274kB/s]  \n"
          ],
          "name": "stderr"
        }
      ]
    },
    {
      "cell_type": "code",
      "metadata": {
        "id": "PfzGj0F9u7At",
        "colab": {
          "base_uri": "https://localhost:8080/"
        },
        "outputId": "8e0b68ea-0c8c-45e3-b209-fd7d8b065fba"
      },
      "source": [
        "from time import sleep\n",
        "from tqdm import trange, tqdm\n",
        "from multiprocessing import Pool, RLock, freeze_support\n",
        "\n",
        "L = list(range(3))\n",
        "\n",
        "def progresser(n):\n",
        "    interval = 0.001 / (n + 2)\n",
        "    total = 5000\n",
        "    text = \"#{}, est. {:<04.2}s\".format(n, interval * total)\n",
        "    for _ in trange(total, desc=text, position=n):\n",
        "        sleep(interval)\n",
        "\n",
        "if __name__ == '__main__':\n",
        "    tqdm.set_lock(RLock())  # for managing output contention\n",
        "    p = Pool(initializer=tqdm.set_lock, initargs=(tqdm.get_lock(),))\n",
        "    p.map(progresser, L)"
      ],
      "execution_count": null,
      "outputs": [
        {
          "output_type": "stream",
          "text": [
            "#0, est. 2.50s:   0%|          | 0/5000 [00:00<?, ?it/s]\n",
            "#0, est. 2.50s:   3%|▎         | 168/5000 [00:00<00:02, 1677.39it/s]\n",
            "#0, est. 2.50s:   6%|▋         | 321/5000 [00:00<00:02, 1629.37it/s]\n",
            "#0, est. 2.50s:  10%|▉         | 487/5000 [00:00<00:02, 1637.30it/s]\n",
            "#0, est. 2.50s:  13%|█▎        | 644/5000 [00:00<00:02, 1615.61it/s]\n",
            "#0, est. 2.50s:  16%|█▌        | 806/5000 [00:00<00:02, 1614.91it/s]\n",
            "#0, est. 2.50s:  19%|█▉        | 967/5000 [00:00<00:02, 1611.87it/s]\n",
            "#0, est. 2.50s:  23%|██▎       | 1126/5000 [00:00<00:02, 1603.47it/s]\n",
            "#0, est. 2.50s:  26%|██▌       | 1286/5000 [00:00<00:02, 1602.30it/s]\n",
            "#0, est. 2.50s:  29%|██▉       | 1442/5000 [00:00<00:02, 1588.28it/s]\n",
            "#0, est. 2.50s:  32%|███▏      | 1597/5000 [00:01<00:02, 1575.77it/s]\n",
            "#0, est. 2.50s:  35%|███▌      | 1753/5000 [00:01<00:02, 1570.64it/s]\n",
            "#0, est. 2.50s:  38%|███▊      | 1907/5000 [00:01<00:02, 1544.31it/s]\n",
            "#0, est. 2.50s:  41%|████      | 2060/5000 [00:01<00:01, 1536.73it/s]\n",
            "#0, est. 2.50s:  44%|████▍     | 2218/5000 [00:01<00:01, 1547.55it/s]\n",
            "#0, est. 2.50s:  47%|████▋     | 2372/5000 [00:01<00:01, 1533.28it/s]\n",
            "#0, est. 2.50s:  51%|█████     | 2531/5000 [00:01<00:01, 1549.30it/s]\n",
            "#0, est. 2.50s:  54%|█████▍    | 2691/5000 [00:01<00:01, 1563.89it/s]\n",
            "#0, est. 2.50s:  57%|█████▋    | 2851/5000 [00:01<00:01, 1572.36it/s]\n",
            "#0, est. 2.50s:  60%|██████    | 3009/5000 [00:01<00:01, 1559.79it/s]\n",
            "#0, est. 2.50s:  63%|██████▎   | 3165/5000 [00:02<00:01, 1542.99it/s]\n",
            "#0, est. 2.50s:  67%|██████▋   | 3326/5000 [00:02<00:01, 1560.88it/s]\n",
            "#0, est. 2.50s:  70%|██████▉   | 3486/5000 [00:02<00:00, 1570.65it/s]\n",
            "#0, est. 2.50s:  73%|███████▎  | 3644/5000 [00:02<00:00, 1573.19it/s]\n",
            "#0, est. 2.50s:  76%|███████▌  | 3802/5000 [00:02<00:00, 1575.09it/s]\n",
            "#1, est. 1.70s: 100%|██████████| 5000/5000 [00:02<00:00, 2040.19it/s]\n",
            "\n",
            "\n",
            "#0, est. 2.50s:  79%|███████▉  | 3960/5000 [00:02<00:00, 1565.60it/s]\n",
            "\n",
            "#0, est. 2.50s:  82%|████████▏ | 4117/5000 [00:02<00:00, 1564.02it/s]\n",
            "\n",
            "#0, est. 2.50s:  85%|████████▌ | 4274/5000 [00:02<00:00, 1565.75it/s]\n",
            "\n",
            "#0, est. 2.50s:  89%|████████▉ | 4438/5000 [00:02<00:00, 1584.67it/s]\n",
            "\n",
            "#0, est. 2.50s:  92%|█████████▏| 4597/5000 [00:02<00:00, 1571.95it/s]\n",
            "\n",
            "#0, est. 2.50s:  95%|█████████▌| 4755/5000 [00:03<00:00, 1557.00it/s]\n",
            "\n",
            "#0, est. 2.50s:  98%|█████████▊| 4911/5000 [00:03<00:00, 1552.38it/s]\n",
            "\n",
            "#0, est. 2.50s: 100%|██████████| 5000/5000 [00:03<00:00, 1566.02it/s]\n",
            "\n",
            "\n",
            "#2, est. 1.20s:  41%|████      | 2028/5000 [00:00<00:01, 2491.86it/s]\u001b[A\u001b[A\n",
            "\n",
            "#2, est. 1.20s:  46%|████▌     | 2277/5000 [00:00<00:01, 2490.41it/s]\u001b[A\u001b[A\n",
            "\n",
            "#2, est. 1.20s:  51%|█████     | 2547/5000 [00:01<00:00, 2549.23it/s]\u001b[A\u001b[A\n",
            "\n",
            "#2, est. 1.20s:  56%|█████▌    | 2800/5000 [00:01<00:00, 2542.55it/s]\u001b[A\u001b[A\n",
            "\n",
            "#2, est. 1.20s:  61%|██████    | 3054/5000 [00:01<00:00, 2541.64it/s]\u001b[A\u001b[A\n",
            "\n",
            "#2, est. 1.20s:  66%|██████▌   | 3305/5000 [00:01<00:00, 2516.54it/s]\u001b[A\u001b[A\n",
            "\n",
            "#2, est. 1.20s:  71%|███████▏  | 3563/5000 [00:01<00:00, 2532.88it/s]\u001b[A\u001b[A\n",
            "\n",
            "#2, est. 1.20s:  76%|███████▋  | 3815/5000 [00:01<00:00, 2524.89it/s]\u001b[A\u001b[A\n",
            "\n",
            "#2, est. 1.20s:  81%|████████▏ | 4074/5000 [00:01<00:00, 2542.64it/s]\u001b[A\u001b[A\n",
            "\n",
            "#2, est. 1.20s:  87%|████████▋ | 4331/5000 [00:01<00:00, 2549.49it/s]\u001b[A\u001b[A\n",
            "\n",
            "#2, est. 1.20s:  92%|█████████▏| 4588/5000 [00:01<00:00, 2553.80it/s]\u001b[A\u001b[A\n",
            "\n",
            "#2, est. 1.20s: 100%|██████████| 5000/5000 [00:01<00:00, 2539.26it/s]\n"
          ],
          "name": "stderr"
        }
      ]
    },
    {
      "cell_type": "code",
      "metadata": {
        "colab": {
          "base_uri": "https://localhost:8080/"
        },
        "id": "81betDun-KAW",
        "outputId": "28e69eee-c12f-4f9c-f997-d0557bce1f96"
      },
      "source": [
        "with tqdm.wrapattr(open(os.devnull, \"wb\"), \"write\",\n",
        "                   miniters=1, desc=eg_link.split('/')[-1]) as fout:\n",
        "    for chunk in urllib.request.urlopen(eg_link):\n",
        "        fout.write(chunk)"
      ],
      "execution_count": null,
      "outputs": [
        {
          "output_type": "stream",
          "text": [
            "matryoshka.zip: 254kB [00:00, 321kB/s] \n"
          ],
          "name": "stderr"
        }
      ]
    },
    {
      "cell_type": "code",
      "metadata": {
        "colab": {
          "base_uri": "https://localhost:8080/"
        },
        "id": "bCzVWnnr-YIQ",
        "outputId": "95d0238d-f4f7-46b2-99c9-4747c3970199"
      },
      "source": [
        "import requests\n",
        "\n",
        "eg_link = \"https://caspersci.uk.to/matryoshka.zip\"\n",
        "response = requests.get(eg_link, stream=True)\n",
        "with tqdm.wrapattr(open(os.devnull, \"wb\"), \"write\",\n",
        "                   miniters=1, desc=eg_link.split('/')[-1],\n",
        "                   total=int(response.headers.get('content-length', 0))) as fout:\n",
        "    for chunk in response.iter_content(chunk_size=4096):\n",
        "        fout.write(chunk)"
      ],
      "execution_count": null,
      "outputs": [
        {
          "output_type": "stream",
          "text": [
            "matryoshka.zip: 254kB [00:00, 655kB/s] \n"
          ],
          "name": "stderr"
        }
      ]
    },
    {
      "cell_type": "markdown",
      "metadata": {
        "id": "vCerHKHz_AfR"
      },
      "source": [
        "### Integracja"
      ]
    },
    {
      "cell_type": "code",
      "metadata": {
        "id": "dx9Ua1KmvQzR",
        "colab": {
          "base_uri": "https://localhost:8080/",
          "height": 213,
          "referenced_widgets": [
            "64d58478ddbf4d1ea83eb2a4b35c645a",
            "4ae7e350cb3f43228410e4cc1e4a709d",
            "b2242d4d7e7d47de94186653d796a777",
            "5dbf96feb1e04a9f82d46549e4a9f00e",
            "49a132f869de46c5b905b2f4619d932a",
            "8055265b46714ad381b22158361e1dbb",
            "ae57a7c1576b4e88b7d9cecd937cd70c",
            "9ef4a17d4c0a4153a4844c02fd041264",
            "546395ccf8234cbe8e7b42f543ee8dac",
            "21879bad8a1044d09adf8a02e620257f",
            "fefb51e308e4498cbfbc7ada3a6c8534",
            "cce3834014414314a36ce73a51c3fcb8",
            "cd6a382b742f4b1ab5f13d48eff5947b",
            "2616ef41a4914d5ca345302291935fff",
            "c4da7560149a40cf81aaaf764eb7f94f",
            "29668d3d1c1f4f858674974479885ac5",
            "18da2b7f0cd94f0dab1c358dddaad936",
            "5b7459c56380433e9cb30ec44958e098",
            "fa7eaa9ccf3b4ad28b141dc148f6a543",
            "991e64b2294a425b88bfd9dace2e2e11",
            "f4b93f8e8d7c4f04915fbae2a038fbe3",
            "c26721c968f34189ae7211f4bb6cc5a9",
            "869a408a183d4c9da250d27d6f4b524a",
            "44c1e93b4efd4959953a01747646f7ff",
            "aee78673bd164c3595e791419b9be823",
            "6c37d036f87a4e2c82d5dc34dd816904",
            "305a3045fd4748619cd3352914443867",
            "3139a73df66b4ae4a5824f3c822b6413",
            "5cb51971f7f04e77816a76b784498a9e",
            "2e1e031e8e2e4064a9155baee6adfb55",
            "8a5c3ce8e4bf42feb94ee3f9211f708c",
            "e246485da2af463a8a0d7ef6891891a8"
          ]
        },
        "outputId": "50cd1d36-25df-41ec-d566-67aee7ea5960"
      },
      "source": [
        "# Jupyter notebook\n",
        "\n",
        "from tqdm.notebook import trange, tqdm\n",
        "from time import sleep\n",
        "\n",
        "for i in trange(3, desc='outer loop'):\n",
        "    for j in tqdm(range(100), desc='inner loop'): #, leave=False):\n",
        "        sleep(0.01)"
      ],
      "execution_count": null,
      "outputs": [
        {
          "output_type": "display_data",
          "data": {
            "application/vnd.jupyter.widget-view+json": {
              "model_id": "64d58478ddbf4d1ea83eb2a4b35c645a",
              "version_minor": 0,
              "version_major": 2
            },
            "text/plain": [
              "HBox(children=(FloatProgress(value=0.0, description='outer loop', max=3.0, style=ProgressStyle(description_wid…"
            ]
          },
          "metadata": {
            "tags": []
          }
        },
        {
          "output_type": "display_data",
          "data": {
            "application/vnd.jupyter.widget-view+json": {
              "model_id": "546395ccf8234cbe8e7b42f543ee8dac",
              "version_minor": 0,
              "version_major": 2
            },
            "text/plain": [
              "HBox(children=(FloatProgress(value=0.0, description='inner loop', style=ProgressStyle(description_width='initi…"
            ]
          },
          "metadata": {
            "tags": []
          }
        },
        {
          "output_type": "stream",
          "text": [
            "\n"
          ],
          "name": "stdout"
        },
        {
          "output_type": "display_data",
          "data": {
            "application/vnd.jupyter.widget-view+json": {
              "model_id": "18da2b7f0cd94f0dab1c358dddaad936",
              "version_minor": 0,
              "version_major": 2
            },
            "text/plain": [
              "HBox(children=(FloatProgress(value=0.0, description='inner loop', style=ProgressStyle(description_width='initi…"
            ]
          },
          "metadata": {
            "tags": []
          }
        },
        {
          "output_type": "stream",
          "text": [
            "\n"
          ],
          "name": "stdout"
        },
        {
          "output_type": "display_data",
          "data": {
            "application/vnd.jupyter.widget-view+json": {
              "model_id": "aee78673bd164c3595e791419b9be823",
              "version_minor": 0,
              "version_major": 2
            },
            "text/plain": [
              "HBox(children=(FloatProgress(value=0.0, description='inner loop', style=ProgressStyle(description_width='initi…"
            ]
          },
          "metadata": {
            "tags": []
          }
        },
        {
          "output_type": "stream",
          "text": [
            "\n",
            "\n"
          ],
          "name": "stdout"
        }
      ]
    },
    {
      "cell_type": "code",
      "metadata": {
        "colab": {
          "base_uri": "https://localhost:8080/",
          "height": 436
        },
        "id": "5faINELX-lMo",
        "outputId": "9f748634-a113-44f7-9a4d-2ed1fb722b71"
      },
      "source": [
        "# Pandas\n",
        "\n",
        "import pandas as pd\n",
        "import numpy as np\n",
        "from tqdm import tqdm\n",
        "\n",
        "df = pd.DataFrame(np.random.randint(0, 100, (1000000, 10)))\n",
        "tqdm.pandas()\n",
        "\n",
        "df.progress_apply(lambda x: x**2)"
      ],
      "execution_count": null,
      "outputs": [
        {
          "output_type": "stream",
          "text": [
            "100%|██████████| 10/10 [00:00<00:00, 42.00it/s]\n"
          ],
          "name": "stderr"
        },
        {
          "output_type": "execute_result",
          "data": {
            "text/html": [
              "<div>\n",
              "<style scoped>\n",
              "    .dataframe tbody tr th:only-of-type {\n",
              "        vertical-align: middle;\n",
              "    }\n",
              "\n",
              "    .dataframe tbody tr th {\n",
              "        vertical-align: top;\n",
              "    }\n",
              "\n",
              "    .dataframe thead th {\n",
              "        text-align: right;\n",
              "    }\n",
              "</style>\n",
              "<table border=\"1\" class=\"dataframe\">\n",
              "  <thead>\n",
              "    <tr style=\"text-align: right;\">\n",
              "      <th></th>\n",
              "      <th>0</th>\n",
              "      <th>1</th>\n",
              "      <th>2</th>\n",
              "      <th>3</th>\n",
              "      <th>4</th>\n",
              "      <th>5</th>\n",
              "      <th>6</th>\n",
              "      <th>7</th>\n",
              "      <th>8</th>\n",
              "      <th>9</th>\n",
              "    </tr>\n",
              "  </thead>\n",
              "  <tbody>\n",
              "    <tr>\n",
              "      <th>0</th>\n",
              "      <td>2116</td>\n",
              "      <td>6084</td>\n",
              "      <td>169</td>\n",
              "      <td>3136</td>\n",
              "      <td>1681</td>\n",
              "      <td>3481</td>\n",
              "      <td>8100</td>\n",
              "      <td>1024</td>\n",
              "      <td>576</td>\n",
              "      <td>4225</td>\n",
              "    </tr>\n",
              "    <tr>\n",
              "      <th>1</th>\n",
              "      <td>7921</td>\n",
              "      <td>1521</td>\n",
              "      <td>6400</td>\n",
              "      <td>4</td>\n",
              "      <td>529</td>\n",
              "      <td>1521</td>\n",
              "      <td>1156</td>\n",
              "      <td>1521</td>\n",
              "      <td>2025</td>\n",
              "      <td>9409</td>\n",
              "    </tr>\n",
              "    <tr>\n",
              "      <th>2</th>\n",
              "      <td>7921</td>\n",
              "      <td>9409</td>\n",
              "      <td>0</td>\n",
              "      <td>7569</td>\n",
              "      <td>289</td>\n",
              "      <td>2601</td>\n",
              "      <td>3844</td>\n",
              "      <td>3136</td>\n",
              "      <td>4624</td>\n",
              "      <td>256</td>\n",
              "    </tr>\n",
              "    <tr>\n",
              "      <th>3</th>\n",
              "      <td>49</td>\n",
              "      <td>6561</td>\n",
              "      <td>1024</td>\n",
              "      <td>4624</td>\n",
              "      <td>4624</td>\n",
              "      <td>7396</td>\n",
              "      <td>4900</td>\n",
              "      <td>2704</td>\n",
              "      <td>324</td>\n",
              "      <td>1296</td>\n",
              "    </tr>\n",
              "    <tr>\n",
              "      <th>4</th>\n",
              "      <td>4761</td>\n",
              "      <td>16</td>\n",
              "      <td>2500</td>\n",
              "      <td>324</td>\n",
              "      <td>676</td>\n",
              "      <td>324</td>\n",
              "      <td>8649</td>\n",
              "      <td>361</td>\n",
              "      <td>2209</td>\n",
              "      <td>121</td>\n",
              "    </tr>\n",
              "    <tr>\n",
              "      <th>...</th>\n",
              "      <td>...</td>\n",
              "      <td>...</td>\n",
              "      <td>...</td>\n",
              "      <td>...</td>\n",
              "      <td>...</td>\n",
              "      <td>...</td>\n",
              "      <td>...</td>\n",
              "      <td>...</td>\n",
              "      <td>...</td>\n",
              "      <td>...</td>\n",
              "    </tr>\n",
              "    <tr>\n",
              "      <th>999995</th>\n",
              "      <td>1156</td>\n",
              "      <td>5776</td>\n",
              "      <td>289</td>\n",
              "      <td>4624</td>\n",
              "      <td>625</td>\n",
              "      <td>7569</td>\n",
              "      <td>4489</td>\n",
              "      <td>4489</td>\n",
              "      <td>5776</td>\n",
              "      <td>8464</td>\n",
              "    </tr>\n",
              "    <tr>\n",
              "      <th>999996</th>\n",
              "      <td>1600</td>\n",
              "      <td>625</td>\n",
              "      <td>9</td>\n",
              "      <td>1600</td>\n",
              "      <td>6724</td>\n",
              "      <td>1600</td>\n",
              "      <td>3721</td>\n",
              "      <td>2025</td>\n",
              "      <td>2704</td>\n",
              "      <td>81</td>\n",
              "    </tr>\n",
              "    <tr>\n",
              "      <th>999997</th>\n",
              "      <td>0</td>\n",
              "      <td>8836</td>\n",
              "      <td>5776</td>\n",
              "      <td>5329</td>\n",
              "      <td>576</td>\n",
              "      <td>3025</td>\n",
              "      <td>9801</td>\n",
              "      <td>3721</td>\n",
              "      <td>64</td>\n",
              "      <td>2704</td>\n",
              "    </tr>\n",
              "    <tr>\n",
              "      <th>999998</th>\n",
              "      <td>81</td>\n",
              "      <td>49</td>\n",
              "      <td>5776</td>\n",
              "      <td>1521</td>\n",
              "      <td>2500</td>\n",
              "      <td>289</td>\n",
              "      <td>7396</td>\n",
              "      <td>1936</td>\n",
              "      <td>784</td>\n",
              "      <td>576</td>\n",
              "    </tr>\n",
              "    <tr>\n",
              "      <th>999999</th>\n",
              "      <td>144</td>\n",
              "      <td>8100</td>\n",
              "      <td>4900</td>\n",
              "      <td>1</td>\n",
              "      <td>8649</td>\n",
              "      <td>64</td>\n",
              "      <td>625</td>\n",
              "      <td>1936</td>\n",
              "      <td>8649</td>\n",
              "      <td>1849</td>\n",
              "    </tr>\n",
              "  </tbody>\n",
              "</table>\n",
              "<p>1000000 rows × 10 columns</p>\n",
              "</div>"
            ],
            "text/plain": [
              "           0     1     2     3     4     5     6     7     8     9\n",
              "0       2116  6084   169  3136  1681  3481  8100  1024   576  4225\n",
              "1       7921  1521  6400     4   529  1521  1156  1521  2025  9409\n",
              "2       7921  9409     0  7569   289  2601  3844  3136  4624   256\n",
              "3         49  6561  1024  4624  4624  7396  4900  2704   324  1296\n",
              "4       4761    16  2500   324   676   324  8649   361  2209   121\n",
              "...      ...   ...   ...   ...   ...   ...   ...   ...   ...   ...\n",
              "999995  1156  5776   289  4624   625  7569  4489  4489  5776  8464\n",
              "999996  1600   625     9  1600  6724  1600  3721  2025  2704    81\n",
              "999997     0  8836  5776  5329   576  3025  9801  3721    64  2704\n",
              "999998    81    49  5776  1521  2500   289  7396  1936   784   576\n",
              "999999   144  8100  4900     1  8649    64   625  1936  8649  1849\n",
              "\n",
              "[1000000 rows x 10 columns]"
            ]
          },
          "metadata": {
            "tags": []
          },
          "execution_count": 17
        }
      ]
    },
    {
      "cell_type": "code",
      "metadata": {
        "id": "v84xeGHY_JpG"
      },
      "source": [
        "# Keras\n",
        "from tqdm.keras import TqdmCallback\n",
        "\n",
        "# ...\n",
        "\n",
        "model.fit(..., verbose=0, callbacks=[TqdmCallback()])\n"
      ],
      "execution_count": null,
      "outputs": []
    }
  ]
}